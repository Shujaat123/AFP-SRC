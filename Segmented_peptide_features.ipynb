{
  "nbformat": 4,
  "nbformat_minor": 0,
  "metadata": {
    "colab": {
      "provenance": [],
      "authorship_tag": "ABX9TyPzfsSrD80PdR5BQALBUGo2",
      "include_colab_link": true
    },
    "kernelspec": {
      "name": "python3",
      "display_name": "Python 3"
    },
    "language_info": {
      "name": "python"
    }
  },
  "cells": [
    {
      "cell_type": "markdown",
      "metadata": {
        "id": "view-in-github",
        "colab_type": "text"
      },
      "source": [
        "<a href=\"https://colab.research.google.com/github/Shujaat123/AFP-SRC/blob/master/Segmented_peptide_features.ipynb\" target=\"_parent\"><img src=\"https://colab.research.google.com/assets/colab-badge.svg\" alt=\"Open In Colab\"/></a>"
      ]
    },
    {
      "cell_type": "code",
      "source": [
        "!git clone https://github.com/Superzchen/iFeature\n",
        "#Zhen Chen, Pei Zhao, Fuyi Li, André Leier, Tatiana T Marquez-Lago, Yanan Wang, Geoffrey I Webb, A Ian Smith, Roger J Daly*, Kuo-Chen Chou*, Jiangning Song*, iFeature: a Python package and web server for features extraction and selection from protein and peptide sequences. Bioinformatics, 2018, 34(14): 2499–2502. https://doi.org/10.1093/bioinformatics/bty140"
      ],
      "metadata": {
        "colab": {
          "base_uri": "https://localhost:8080/"
        },
        "id": "HYAXwMifxOOO",
        "outputId": "43ceffb6-fd7d-4783-e339-db3d4bb057c6"
      },
      "execution_count": 5,
      "outputs": [
        {
          "output_type": "stream",
          "name": "stdout",
          "text": [
            "fatal: destination path 'iFeature' already exists and is not an empty directory.\n"
          ]
        }
      ]
    },
    {
      "cell_type": "code",
      "source": [
        "#!/usr/bin/env python\n",
        "#_*_coding:utf-8_*_\n",
        "\n",
        "import re, os, sys\n",
        "\n",
        "def readFasta(file):\n",
        "\tif os.path.exists(file) == False:\n",
        "\t\tprint('Error: \"' + file + '\" does not exist.')\n",
        "\t\tsys.exit(1)\n",
        "\n",
        "\twith open(file) as f:\n",
        "\t\trecords = f.read()\n",
        "\n",
        "\tif re.search('>', records) == None:\n",
        "\t\tprint('The input file seems not in fasta format.')\n",
        "\t\tsys.exit(1)\n",
        "\n",
        "\trecords = records.split('>')[1:]\n",
        "\tmyFasta = []\n",
        "\tfor fasta in records:\n",
        "\t\tarray = fasta.split('\\n')\n",
        "\t\tname, sequence = array[0].split()[0], re.sub('[^ARNDCQEGHILKMFPSTWYV-]', '-', ''.join(array[1:]).upper())\n",
        "\t\tmyFasta.append([name, sequence])\n",
        "\treturn myFasta\n",
        "\n",
        "\n",
        "#######################\n",
        "\n",
        "def segmented_AAC(fastas, num_segments = 2):\n",
        "  AA = 'ACDEFGHIKLMNPQRSTVWY'\n",
        "  encodings = []\n",
        "  header = ['#']\n",
        "  # num_segments = 2\n",
        "  new_count = {}\n",
        "  for segment in range(0,num_segments):\n",
        "    for AA_key in AA:\n",
        "      header.append('seg:'+str(segment)+'_'+AA_key)\n",
        "      new_count['seg:'+str(segment)+'_'+AA_key] = 0\n",
        "  encodings.append(header)\n",
        "\n",
        "  for i in fastas:\n",
        "    len_count = 0\n",
        "    name, sequence = i[0], re.sub('-', '', i[1])\n",
        "    seq_segments = textwrap.wrap(sequence, int(np.ceil(len(sequence)/num_segments)))\n",
        "    assert len(seq_segments)==num_segments #\n",
        "    code = [name]\n",
        "    # print(name)\n",
        "    for segment in range(0,num_segments):\n",
        "      count = Counter(seq_segments[segment])\n",
        "      # print('segment:',segment,'\\ncount:',count)\n",
        "\n",
        "      for AA_key in count:\n",
        "        new_count['seg:'+str(segment)+'_'+AA_key] = count[AA_key]/len(seq_segments[segment])\n",
        "\n",
        "      for aai in AA:\n",
        "        code.append(new_count['seg:'+str(segment)+'_'+aai])\n",
        "\n",
        "        encodings.append(code)\n",
        "  return encodings"
      ],
      "metadata": {
        "id": "Cqq4Dgdug5IY"
      },
      "execution_count": 6,
      "outputs": []
    },
    {
      "cell_type": "code",
      "source": [
        "import re\n",
        "import textwrap\n",
        "import numpy as np\n",
        "from collections import Counter\n",
        "\n",
        "file_name = \"iFeature/examples/test-protein.txt\"\n",
        "fastas = readFasta(file_name)"
      ],
      "metadata": {
        "id": "0swVMUZuzcXQ"
      },
      "execution_count": 7,
      "outputs": []
    },
    {
      "cell_type": "code",
      "source": [
        "# print(fastas[0])\n",
        "EN=segmented_AAC(fastas[0:1],num_segments=4)\n",
        "# print(EN)\n",
        "print(len(EN))"
      ],
      "metadata": {
        "colab": {
          "base_uri": "https://localhost:8080/"
        },
        "id": "Z67dA3_k1n9_",
        "outputId": "28d021c6-e279-4843-8dcb-996089137db0"
      },
      "execution_count": 8,
      "outputs": [
        {
          "output_type": "stream",
          "name": "stdout",
          "text": [
            "81\n"
          ]
        }
      ]
    }
  ]
}